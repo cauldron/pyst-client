{
 "cells": [
  {
   "cell_type": "code",
   "execution_count": 2,
   "id": "a5add077-4505-4903-b382-ce493430ea3a",
   "metadata": {},
   "outputs": [],
   "source": [
    "from pathlib import Path\n",
    "import os\n",
    "\n",
    "from py_semantic_taxonomy.adapters.routers.validation import MultilingualString\n",
    "from py_semantic_taxonomy.domain.constants import SKOS\n",
    "from tqdm import tqdm\n",
    "import httpx\n",
    "import structlog\n",
    "import xmltodict\n",
    "\n",
    "from pyst_client.simple import *\n",
    "from pyst_client.simple.client import WriteClient"
   ]
  },
  {
   "cell_type": "code",
   "execution_count": 3,
   "id": "6f89864f-198f-444c-bd23-10e4db5a9f69",
   "metadata": {},
   "outputs": [],
   "source": [
    "auth = os.environ[\"pyst_auth_token\"]\n",
    "assert auth\n",
    "\n",
    "metadata_39_dir = Path(os.environ[\"ecoinvent_39_metadata_dir\"])\n",
    "assert metadata_39_dir.is_dir()\n",
    "\n",
    "metadata_310_dir = Path(os.environ[\"ecoinvent_310_metadata_dir\"])\n",
    "assert metadata_310_dir.is_dir()\n",
    "\n",
    "metadata_311_dir = Path(os.environ[\"ecoinvent_311_metadata_dir\"])\n",
    "assert metadata_311_dir.is_dir()"
   ]
  },
  {
   "cell_type": "code",
   "execution_count": 11,
   "id": "be684c54-8767-42a3-9b88-f5d93189bdc2",
   "metadata": {},
   "outputs": [],
   "source": [
    "products_311 = xmltodict.parse(open(metadata_311_dir / \"IntermediateExchanges.xml\", \"rb\"))['validIntermediateExchanges']\n",
    "products_310 = xmltodict.parse(open(metadata_310_dir / \"IntermediateExchanges.xml\", \"rb\"))['validIntermediateExchanges']\n",
    "products_39 = xmltodict.parse(open(metadata_39_dir / \"IntermediateExchanges.xml\", \"rb\"))['validIntermediateExchanges']"
   ]
  },
  {
   "cell_type": "code",
   "execution_count": 5,
   "id": "0ab7bc14-aa50-4af9-8a75-e7b48f0fbd42",
   "metadata": {},
   "outputs": [
    {
     "data": {
      "text/plain": [
       "'3.11'"
      ]
     },
     "execution_count": 5,
     "metadata": {},
     "output_type": "execute_result"
    }
   ],
   "source": [
    "release = \"{}.{}\".format(products['@majorRelease'], products['@minorRelease'])\n",
    "release"
   ]
  },
  {
   "cell_type": "code",
   "execution_count": 6,
   "id": "571d259c-f36c-4752-9aa3-70bfe8f56da8",
   "metadata": {},
   "outputs": [],
   "source": [
    "# Storing temporarily for this script; use `.set_X` to set permanently\n",
    "settings.api_key = auth\n",
    "settings.creation_base_url = f\"https://vocab.sentier.dev/products/ecoinvent/{release}/\"\n",
    "settings.server_url = \"https://vocab.cauldron.ch\""
   ]
  },
  {
   "cell_type": "code",
   "execution_count": 7,
   "id": "a7d8a19e-9d11-4e4a-b380-d913517d3da7",
   "metadata": {},
   "outputs": [
    {
     "name": "stdout",
     "output_type": "stream",
     "text": [
      "\u001b[2m2025-06-09 07:07:30\u001b[0m [\u001b[32m\u001b[1minfo     \u001b[0m] \u001b[1mServer URL https://vocab.cauldron.ch successfully loaded from secrets directory\u001b[0m\n",
      "\u001b[2m2025-06-09 07:07:30\u001b[0m [\u001b[32m\u001b[1minfo     \u001b[0m] \u001b[1mDefault language `en` successfully loaded from secrets directory\u001b[0m\n",
      "\u001b[2m2025-06-09 07:07:30\u001b[0m [\u001b[32m\u001b[1minfo     \u001b[0m] \u001b[1mServer URL `https://vocab.cauldron.ch` is healthy and reachable\u001b[0m\n",
      "\u001b[2m2025-06-09 07:07:30\u001b[0m [\u001b[32m\u001b[1minfo     \u001b[0m] \u001b[1mAPI key successfully loaded from secrets directory\u001b[0m\n",
      "\u001b[2m2025-06-09 07:07:30\u001b[0m [\u001b[32m\u001b[1minfo     \u001b[0m] \u001b[1mCreation base URL successfully loaded from secrets directory\u001b[0m\n"
     ]
    },
    {
     "data": {
      "text/plain": [
       "<Response [200 OK]>"
      ]
     },
     "execution_count": 7,
     "metadata": {},
     "output_type": "execute_result"
    }
   ],
   "source": [
    "cs = ConceptScheme.create(\n",
    "    pref_labels=[f\"ecoinvent Products {release}\"],\n",
    "    version=release,\n",
    "    notations=[f\"ei-products-{release}\"],\n",
    "    definitions=[\"Set of ecoinvent products (intermediate exchanges) extracted from publicly available metadata\"],\n",
    "    creators=[{\"@id\": \"https://ecoinvent.org/\"}],\n",
    ")\n",
    "cs.save()"
   ]
  },
  {
   "cell_type": "code",
   "execution_count": 8,
   "id": "5e4459ac-76af-4817-bb4f-6a1081aaaa6f",
   "metadata": {},
   "outputs": [],
   "source": [
    "def get_multilingual_strings(obj: dict, key: str, secondary_key: str | None = None) -> list[MultilingualString]:\n",
    "    if key not in obj:\n",
    "        return []\n",
    "    elif secondary_key and secondary_key in obj[key]:\n",
    "        data = obj[key][secondary_key]\n",
    "    elif secondary_key and secondary_key not in obj[key]:\n",
    "        return []\n",
    "    else:\n",
    "        data = obj[key]\n",
    "    if isinstance(data, list):\n",
    "        return [\n",
    "            MultilingualString(**{\"@language\": elem['@xml:lang'], \"@value\": elem['#text']})\n",
    "            for elem in data\n",
    "            if '#text' in elem\n",
    "        ]\n",
    "    else:\n",
    "        assert isinstance(data, dict) and '@xml:lang' in data\n",
    "        return (\n",
    "            [MultilingualString(**{\"@language\": data['@xml:lang'], \"@value\": data['#text']})] \n",
    "            if '#text' in data \n",
    "            else []\n",
    "        )"
   ]
  },
  {
   "cell_type": "code",
   "execution_count": 9,
   "id": "75a9ec73-e380-4c54-8147-462ce780a1fb",
   "metadata": {},
   "outputs": [],
   "source": [
    "concepts = {}"
   ]
  },
  {
   "cell_type": "code",
   "execution_count": 10,
   "id": "5d05e30e-288e-4497-88f5-91643b3c8dc2",
   "metadata": {},
   "outputs": [
    {
     "name": "stderr",
     "output_type": "stream",
     "text": [
      "100%|█████████████████████████████████████████| 4309/4309 [06:05<00:00, 11.80it/s]\n"
     ]
    }
   ],
   "source": [
    "for concept in tqdm(products['intermediateExchange']):\n",
    "    concept_obj = Concept.create(\n",
    "        concept_scheme=cs,\n",
    "        pref_labels=get_multilingual_strings(concept, 'name'),\n",
    "        notations=[concept[\"@id\"]],\n",
    "        definitions=get_multilingual_strings(concept, 'comment'),\n",
    "        extra={\n",
    "            f\"{SKOS}scopeNote\": get_multilingual_strings(concept, 'productInformation', 'text'),\n",
    "        },\n",
    "        id_=f\"https://vocab.sentier.dev/products/ecoinvent/{release}/{concept[\"@id\"]}\"\n",
    "    )\n",
    "    concept_obj.types.append(\"http://ontology.bonsai.uno/core#FlowObject\")\n",
    "    concept_obj.save()\n",
    "    concepts[concept[\"@id\"]] = concept_obj"
   ]
  },
  {
   "cell_type": "code",
   "execution_count": null,
   "id": "26bb2c68-3ff0-478a-81f7-7c8895539e71",
   "metadata": {},
   "outputs": [],
   "source": [
    "products['intermediateExchange'][0]"
   ]
  },
  {
   "cell_type": "code",
   "execution_count": null,
   "id": "f40f7f58-fb98-4f95-9d06-d07db8a32bb4",
   "metadata": {},
   "outputs": [],
   "source": [
    "\"https%3A//vocab.sentier.dev/products/cpc/2.1/CPCv2.1/871\""
   ]
  },
  {
   "cell_type": "code",
   "execution_count": 14,
   "id": "df77294d-5ece-4951-ad94-8cbc504059f6",
   "metadata": {},
   "outputs": [],
   "source": [
    "cs_310 = ConceptScheme.get_one(\"https://vocab.sentier.dev/products/ecoinvent/3.10/ei-products-3.10\")\n",
    "cs_311 = ConceptScheme.get_one(\"https://vocab.sentier.dev/products/ecoinvent/3.11/ei-products-3.11\")\n",
    "cs_39 = ConceptScheme.get_one(\"https://vocab.sentier.dev/products/ecoinvent/3.9/ei-products-3.9\")\n",
    "cpc = ConceptScheme.get_one(\"https://vocab.sentier.dev/products/cpc/2.1/\")\n",
    "cn = ConceptScheme.get_one(\"http://data.europa.eu/xsp/cn2024/cn2024\")"
   ]
  },
  {
   "cell_type": "code",
   "execution_count": 15,
   "id": "f7c967e7-0e61-4b6e-8117-22cf22cdc93a",
   "metadata": {},
   "outputs": [
    {
     "data": {
      "text/plain": [
       "'https://vocab.sentier.dev/products/ecoinvent/3.11/ei-products-3.11-CPCv2.1'"
      ]
     },
     "execution_count": 15,
     "metadata": {},
     "output_type": "execute_result"
    }
   ],
   "source": [
    "correspondence = Correspondence.create(\n",
    "    compares=[cs_311, cpc],\n",
    "    pref_labels=[\"ecoinvent-3.11-CPC-2.1\"],\n",
    "    version=\"2025.1\",\n",
    "    definitions=[\"\"],\n",
    ")\n",
    "correspondence.save()\n",
    "correspondence.id_"
   ]
  },
  {
   "cell_type": "code",
   "execution_count": 43,
   "id": "0d8d72a5-16cf-4a5a-b8f5-38718f1df621",
   "metadata": {},
   "outputs": [
    {
     "data": {
      "text/plain": [
       "'https://vocab.sentier.dev/products/correspondence/ei-products-3.11-CN-2024'"
      ]
     },
     "execution_count": 43,
     "metadata": {},
     "output_type": "execute_result"
    }
   ],
   "source": [
    "correspondence_e11_cn = Correspondence.create(\n",
    "    compares=[cs_311, cn],\n",
    "    pref_labels=[\"ecoinvent-3.11-CN-2024\"],\n",
    "    version=\"2025.1\",\n",
    "    definitions=[\"\"],\n",
    "    id_=\"https://vocab.sentier.dev/products/correspondence/ei-products-3.11-CN-2024\"\n",
    ")\n",
    "correspondence_e11_cn.save()\n",
    "correspondence_e11_cn.id_"
   ]
  },
  {
   "cell_type": "code",
   "execution_count": 47,
   "id": "54f7b26e-0861-4a64-b09f-a945587c7f79",
   "metadata": {},
   "outputs": [
    {
     "data": {
      "text/plain": [
       "'https://vocab.sentier.dev/products/correspondence/ei-products-3.10-CN-2024'"
      ]
     },
     "execution_count": 47,
     "metadata": {},
     "output_type": "execute_result"
    }
   ],
   "source": [
    "correspondence_e10_cn = Correspondence.create(\n",
    "    compares=[cs_310, cn],\n",
    "    pref_labels=[\"ecoinvent-3.10-CN-2024\"],\n",
    "    version=\"2025.1\",\n",
    "    definitions=[\"\"],\n",
    "    id_=\"https://vocab.sentier.dev/products/correspondence/ei-products-3.10-CN-2024\"\n",
    ")\n",
    "correspondence_e10_cn.save()\n",
    "correspondence_e10_cn.id_"
   ]
  },
  {
   "cell_type": "code",
   "execution_count": 36,
   "id": "bedde8d6-16ab-4a47-a9a7-ff395e58ae04",
   "metadata": {},
   "outputs": [
    {
     "data": {
      "text/plain": [
       "'https://vocab.sentier.dev/products/ecoinvent/3.11/ei-products-3.10-CPCv2.1'"
      ]
     },
     "execution_count": 36,
     "metadata": {},
     "output_type": "execute_result"
    }
   ],
   "source": [
    "correspondence_310 = Correspondence.create(\n",
    "    compares=[cs_310, cpc],\n",
    "    pref_labels=[\"ecoinvent-3.10-CPC-2.1\"],\n",
    "    version=\"2025.1\",\n",
    "    definitions=[\"\"],\n",
    ")\n",
    "correspondence_310.save()\n",
    "correspondence_310.id_"
   ]
  },
  {
   "cell_type": "code",
   "execution_count": 53,
   "id": "2b1682c3-87c2-4ff4-aa31-3ef107bd3c7c",
   "metadata": {},
   "outputs": [
    {
     "data": {
      "text/plain": [
       "'https://vocab.sentier.dev/products/ecoinvent/3.11/ei-products-3.10-ei-products-3.11'"
      ]
     },
     "execution_count": 53,
     "metadata": {},
     "output_type": "execute_result"
    }
   ],
   "source": [
    "correspondence_310_311 = Correspondence.create(\n",
    "    compares=[cs_310, cs_311],\n",
    "    pref_labels=[\"ecoinvent-3.10-ecoinvent-3.11\"],\n",
    "    version=\"2025.1\",\n",
    "    definitions=[\"\"],\n",
    ")\n",
    "correspondence_310_311.save()\n",
    "correspondence_310_311.id_"
   ]
  },
  {
   "cell_type": "code",
   "execution_count": 23,
   "id": "27d3827d-a2df-433b-99ef-e9f913fa9ed6",
   "metadata": {},
   "outputs": [
    {
     "data": {
      "text/plain": [
       "4597"
      ]
     },
     "execution_count": 23,
     "metadata": {},
     "output_type": "execute_result"
    }
   ],
   "source": [
    "cpc_concepts = Concept.get_many(cpc.id_)\n",
    "len(cpc_concepts)"
   ]
  },
  {
   "cell_type": "code",
   "execution_count": 25,
   "id": "f94f78fd-0ed1-480e-9bc2-d0caabaad9f9",
   "metadata": {},
   "outputs": [],
   "source": [
    "cpc_ids = {obj.id_ for obj in cpc_concepts}"
   ]
  },
  {
   "cell_type": "code",
   "execution_count": 33,
   "id": "e799912c-dda8-4443-aea0-c3ace2d08966",
   "metadata": {},
   "outputs": [
    {
     "data": {
      "text/plain": [
       "15033"
      ]
     },
     "execution_count": 33,
     "metadata": {},
     "output_type": "execute_result"
    }
   ],
   "source": [
    "cn_concepts = Concept.get_many(cn.id_, timeout=20)\n",
    "len(cn_concepts)"
   ]
  },
  {
   "cell_type": "code",
   "execution_count": 34,
   "id": "f64d000d-e84a-4ee7-9f12-08295638197b",
   "metadata": {},
   "outputs": [],
   "source": [
    "cn_ids = {obj.id_ for obj in cn_concepts}"
   ]
  },
  {
   "cell_type": "code",
   "execution_count": 35,
   "id": "653faae1-e5e6-4e67-bad3-c38bdc4751f3",
   "metadata": {},
   "outputs": [
    {
     "data": {
      "text/plain": [
       "'http://data.europa.eu/xsp/cn2024/010011000090'"
      ]
     },
     "execution_count": 35,
     "metadata": {},
     "output_type": "execute_result"
    }
   ],
   "source": [
    "cn_concepts[0].id_"
   ]
  },
  {
   "cell_type": "code",
   "execution_count": 18,
   "id": "790301af-2215-4040-be9f-c0b7c08aae19",
   "metadata": {},
   "outputs": [
    {
     "data": {
      "text/plain": [
       "{'@id': '6e19db2a-0fe3-45d7-897b-002c8dae678a',\n",
       " '@unitId': '487df68b-4994-4027-8fdc-a4dc298257b7',\n",
       " 'name': {'@xml:lang': 'en',\n",
       "  '#text': 'residues, MSWI[F]-WWT, WW from black chrome coating'},\n",
       " 'unitName': {'@xml:lang': 'en', '#text': 'kg'},\n",
       " 'classification': [{'@classificationId': 'ee3238ec-ca7a-4ddc-af1b-e7c35957b9b6',\n",
       "   'classificationSystem': {'@xml:lang': 'en',\n",
       "    '#text': 'By-product classification'},\n",
       "   'classificationValue': {'@xml:lang': 'en', '#text': 'Waste'}},\n",
       "  {'@classificationId': '6d3f4523-869c-45b8-a1cc-67ff0e657c80',\n",
       "   'classificationSystem': {'@xml:lang': 'en', '#text': 'CPC'},\n",
       "   'classificationValue': {'@xml:lang': 'en',\n",
       "    '#text': '39320: Ash and residue (except from the manufacture of iron or steel), containing metals or metallic compounds, excep[…]'}},\n",
       "  {'@classificationId': 'bc50c3a4-f699-5f17-a9fc-040ff213a598',\n",
       "   'classificationSystem': {'@xml:lang': 'en', '#text': 'HS2017'},\n",
       "   'classificationValue': {'@xml:lang': 'en',\n",
       "    '#text': '262110: Slag and ash; ash and residues from the incineration of municipal waste'}}],\n",
       " 'property': [{'@propertyId': '38f94dd1-d5aa-41b8-b182-c0c42985d9dc',\n",
       "   '@amount': '0.0',\n",
       "   'comment': {'@xml:lang': 'en',\n",
       "    '#text': 'Wastes are assumed to have zero economic value.'}},\n",
       "  {'@propertyId': '48c987bb-3144-4872-b5c7-b1389c40be25',\n",
       "   '@amount': '0.0',\n",
       "   '@isDefiningValue': 'false',\n",
       "   'comment': {'@xml:lang': 'en',\n",
       "    '#text': 'Non combustible products are assumed to have an LHV equal to zero (0).'}},\n",
       "  {'@propertyId': 'dbf41b1b-c7b8-4d5e-b39c-f858eb868df5',\n",
       "   '@amount': '0.244372'},\n",
       "  {'@propertyId': 'a9358458-9724-4f03-b622-106eda248916', '@amount': '0.0'},\n",
       "  {'@propertyId': 'f53a5dbc-3bd3-4570-adff-b00790ea3ffc',\n",
       "   '@amount': '2.97918E-07'},\n",
       "  {'@propertyId': '3a0af1d6-04c3-41c6-a3da-92c4f61e0eaa', '@amount': '1.0'},\n",
       "  {'@propertyId': '6393c14b-db78-445d-a47b-c0cb866a1b25', '@amount': '0.0'},\n",
       "  {'@propertyId': '67f102e2-9cb6-4d20-aa16-bf74d8a03326', '@amount': '1.0'},\n",
       "  {'@propertyId': 'e1d2c19b-3a97-4f52-a83f-fe88400452c2',\n",
       "   '@amount': '0.309967'},\n",
       "  {'@propertyId': 'ad7781c7-5dc2-4421-b182-e1fd4cef7fa5',\n",
       "   '@amount': '0.00877594'},\n",
       "  {'@propertyId': '33f96fe7-39da-47ca-837f-f2c311681d1b',\n",
       "   '@amount': '0.26421'},\n",
       "  {'@propertyId': 'c74c3729-e577-4081-b572-a283d2561a75',\n",
       "   '@amount': '0.000504036'},\n",
       "  {'@propertyId': 'e5507d89-78ad-4746-900c-b9afa5a62ea6',\n",
       "   '@amount': '0.05005'},\n",
       "  {'@propertyId': '56f09738-8225-4bdc-91d2-39ee6328f0ee',\n",
       "   '@amount': '0.00346631'},\n",
       "  {'@propertyId': 'f767b36f-62bf-4458-b694-ecbefd2ab970',\n",
       "   '@amount': '0.0184933'},\n",
       "  {'@propertyId': '6d9e1462-80e3-4f10-b3f4-71febd6f1168', '@amount': '0.0'},\n",
       "  {'@propertyId': '0132d97c-5f19-4397-9197-59ab801b10cf',\n",
       "   '@amount': '0.100161'}],\n",
       " 'productInformation': {'text': {'@xml:lang': 'en',\n",
       "   '@index': '0',\n",
       "   '#text': \"residues, MSWI[F]-WWT, WW from black chrome coating' is a solid waste under the category of industrial wastes. These residues are produced exclusively in municipal solid waste incineration (MSWI) with fly ash extraction (F) of 'sewage sludge, 70% water, WWT, WW from black chrome coating' that in turn is produced exclusively from the wastewater treatment (WWT) of 'WW from black chrome coating'. The composition of the residues, is specific and dependent on the original composition of 'WW from black chrome coating'.\\n\\n'residues, MSWI[F]-WWT, WW from black chrome coating' contain the following fractions: 100% incineration residues. By the database default (and per unit of reference product),'residues, MSWI[F]-WWT, WW from black chrome coating' has 0% water on wet mass basis (100% dry matter) and Carbon present is of only fossil origin (0.05% on a dry matter basis). It has no heating value.\\n\\nThis kind of by-product (recyclable or waste) is generated in a specific treatment process, and as such is not intended to be used as for modelling waste outputs from other activities.\\n\\nIn the ecoinvent database, treatment option/s for this by-product include: deposition (residual material landfill). Based on the aforementioned treatments, this by-product receives, it is a hazardous waste. \\n\\nThis by-product can be modelled on two levels: treatment activity and market activity. The former one refers to the specific technology treating the by-product while the latter level represents a mix of treatments. Users are encouraged to inspect the modelling assumptions of the treatment activities and when selecting the market to additionally inspect the treatment mix. \\n\\nCollection and transportation of this by-product is accounted in the respective market activity, users are advised to inspect and modify the average transportation distances for a case specific modelling.\"}}}"
      ]
     },
     "execution_count": 18,
     "metadata": {},
     "output_type": "execute_result"
    }
   ],
   "source": [
    "products_311['intermediateExchange'][1]"
   ]
  },
  {
   "cell_type": "code",
   "execution_count": 37,
   "id": "bee64ab6-4294-4835-a627-b6fd0a7d41f8",
   "metadata": {},
   "outputs": [
    {
     "name": "stderr",
     "output_type": "stream",
     "text": [
      "100%|█████████████████████████████████████████| 4057/4057 [06:24<00:00, 10.55it/s]\n"
     ]
    }
   ],
   "source": [
    "for product in tqdm(products_310['intermediateExchange']):\n",
    "    try:\n",
    "        cpc_label = next(obj['classificationValue']['#text'].split(\":\")[0] for obj in product['classification'] if obj.get(\"classificationSystem\", {}).get(\"#text\") == 'CPC')\n",
    "    except:\n",
    "        continue\n",
    "    cpc_iri = f\"https://vocab.sentier.dev/products/cpc/2.1/CPCv2.1/{cpc_label}\"\n",
    "    if cpc_iri in cpc_ids:\n",
    "        assoc = Association.create(\n",
    "            correspondence=correspondence_310,\n",
    "            source_concepts=[\n",
    "                # Can also be a `Concept` instance\n",
    "                {\"@id\": f'https://vocab.sentier.dev/products/ecoinvent/3.10/{product[\"@id\"]}'}\n",
    "            ], \n",
    "            target_concepts=[\n",
    "                {\"@id\": cpc_iri}\n",
    "            ],\n",
    "        )\n",
    "        assoc.save()"
   ]
  },
  {
   "cell_type": "code",
   "execution_count": 32,
   "id": "7b053047-61c7-4c2f-9c8a-36f178ce08a3",
   "metadata": {},
   "outputs": [
    {
     "name": "stderr",
     "output_type": "stream",
     "text": [
      "100%|█████████████████████████████████████████| 4309/4309 [06:39<00:00, 10.79it/s]\n"
     ]
    }
   ],
   "source": [
    "for product in tqdm(products_311['intermediateExchange']):\n",
    "    try:\n",
    "        cpc_label = next(obj['classificationValue']['#text'].split(\":\")[0] for obj in product['classification'] if obj.get(\"classificationSystem\", {}).get(\"#text\") == 'CPC')\n",
    "    except:\n",
    "        continue\n",
    "    cpc_iri = f\"https://vocab.sentier.dev/products/cpc/2.1/CPCv2.1/{cpc_label}\"\n",
    "    if cpc_iri in cpc_ids:\n",
    "        assoc = Association.create(\n",
    "            correspondence=correspondence,\n",
    "            source_concepts=[\n",
    "                # Can also be a `Concept` instance\n",
    "                {\"@id\": f'https://vocab.sentier.dev/products/ecoinvent/3.11/{product[\"@id\"]}'}\n",
    "            ], \n",
    "            target_concepts=[\n",
    "                {\"@id\": cpc_iri}\n",
    "            ],\n",
    "        )\n",
    "        assoc.save()"
   ]
  },
  {
   "cell_type": "code",
   "execution_count": 41,
   "id": "688f879d-19c3-4944-8885-643803e07ad5",
   "metadata": {},
   "outputs": [
    {
     "data": {
      "text/plain": [
       "['http://data.europa.eu/xsp/cn2024/080410000080']"
      ]
     },
     "execution_count": 41,
     "metadata": {},
     "output_type": "execute_result"
    }
   ],
   "source": [
    "[x for x in cn_ids if x.startswith(\"http://data.europa.eu/xsp/cn2024/080410\")]"
   ]
  },
  {
   "cell_type": "code",
   "execution_count": 48,
   "id": "ff6aa241-dc11-478d-a760-c215f1b466fd",
   "metadata": {},
   "outputs": [
    {
     "name": "stderr",
     "output_type": "stream",
     "text": [
      "100%|█████████████████████████████████████████| 4057/4057 [08:39<00:00,  7.81it/s]\n"
     ]
    }
   ],
   "source": [
    "import uuid\n",
    "\n",
    "def u():\n",
    "    return uuid.uuid4().hex\n",
    "\n",
    "\n",
    "for product in tqdm(products_310['intermediateExchange']):\n",
    "    try:\n",
    "        cn_label = next(obj['classificationValue']['#text'].split(\":\")[0] for obj in product['classification'] if obj.get(\"classificationSystem\", {}).get(\"#text\") == 'HS2017')\n",
    "    except:\n",
    "        continue\n",
    "    cn_iris = sorted([x for x in cn_ids if x.startswith(f\"http://data.europa.eu/xsp/cn2024/{cn_label}\")])\n",
    "    if not cn_iris:\n",
    "        continue\n",
    "    assoc = Association.create(\n",
    "        correspondence=correspondence_e10_cn,\n",
    "        source_concepts=[\n",
    "            {\"@id\": f'https://vocab.sentier.dev/products/ecoinvent/3.10/{product[\"@id\"]}'}\n",
    "        ], \n",
    "        target_concepts=[\n",
    "            {\"@id\": cn_iris[0]}\n",
    "        ],\n",
    "        id_=f\"https://vocab.sentier.dev/products/correspondence/ei-products-3.10-CN-2024/{u()}\"\n",
    "    )\n",
    "    assoc.save()\n",
    "\n",
    "    assoc = Association.create(\n",
    "        correspondence=correspondence_e10_cn,\n",
    "        source_concepts=[\n",
    "            {\"@id\": cn_iris[0]}\n",
    "        ], \n",
    "        target_concepts=[\n",
    "            {\"@id\": f'https://vocab.sentier.dev/products/ecoinvent/3.10/{product[\"@id\"]}'}\n",
    "        ],\n",
    "        id_=f\"https://vocab.sentier.dev/products/correspondence/ei-products-3.10-CN-2024/{u()}\"\n",
    "    )\n",
    "    assoc.save()    "
   ]
  },
  {
   "cell_type": "code",
   "execution_count": null,
   "id": "b979c523-af5e-403e-9470-c4ff15cd0133",
   "metadata": {},
   "outputs": [],
   "source": [
    "https://vocab.sentier.dev/products/ecoinvent/3.11/ei-products-3.10-CPCv2.1'"
   ]
  },
  {
   "cell_type": "code",
   "execution_count": 52,
   "id": "c108e435-85c8-47e0-8f8c-46fa9152048e",
   "metadata": {},
   "outputs": [],
   "source": [
    "ids_311 = {obj[\"@id\"] for obj in products_311['intermediateExchange']}\n",
    "ids_310 = {obj[\"@id\"] for obj in products_310['intermediateExchange']}"
   ]
  },
  {
   "cell_type": "code",
   "execution_count": 55,
   "id": "182915cf-e622-4fb1-8d71-414755e9906e",
   "metadata": {},
   "outputs": [
    {
     "name": "stderr",
     "output_type": "stream",
     "text": [
      "100%|█████████████████████████████████████████| 4309/4309 [16:59<00:00,  4.23it/s]\n"
     ]
    }
   ],
   "source": [
    "import uuid\n",
    "\n",
    "def u():\n",
    "    return uuid.uuid4().hex\n",
    "\n",
    "\n",
    "for id_311 in tqdm(ids_311):\n",
    "    if not id_311 in ids_310:\n",
    "        continue\n",
    "\n",
    "    assoc = Association.create(\n",
    "        correspondence=correspondence_310_311,\n",
    "        source_concepts=[\n",
    "            {\"@id\": f'https://vocab.sentier.dev/products/ecoinvent/3.11/{id_311}'}\n",
    "        ], \n",
    "        target_concepts=[\n",
    "            {\"@id\": f'https://vocab.sentier.dev/products/ecoinvent/3.10/{id_311}'}\n",
    "        ],\n",
    "        id_=f\"https://vocab.sentier.dev/products/ecoinvent/3.11/ei-products-3.10-ei-products-3.11/{u()}\"\n",
    "    )\n",
    "    assoc.save()\n",
    "\n",
    "    assoc = Association.create(\n",
    "        correspondence=correspondence_310_311,\n",
    "        source_concepts=[\n",
    "            {\"@id\": f'https://vocab.sentier.dev/products/ecoinvent/3.10/{id_311}'}\n",
    "        ], \n",
    "        target_concepts=[\n",
    "            {\"@id\": f'https://vocab.sentier.dev/products/ecoinvent/3.11/{id_311}'}\n",
    "        ],\n",
    "        id_=f\"https://vocab.sentier.dev/products/ecoinvent/3.11/ei-products-3.10-ei-products-3.11/{u()}\"\n",
    "    )\n",
    "    assoc.save()\n"
   ]
  },
  {
   "cell_type": "code",
   "execution_count": null,
   "id": "a6fa63cd-e7ac-4a3e-94d6-3a047fc49818",
   "metadata": {},
   "outputs": [],
   "source": []
  }
 ],
 "metadata": {
  "kernelspec": {
   "display_name": "Python 3 (ipykernel)",
   "language": "python",
   "name": "python3"
  },
  "language_info": {
   "codemirror_mode": {
    "name": "ipython",
    "version": 3
   },
   "file_extension": ".py",
   "mimetype": "text/x-python",
   "name": "python",
   "nbconvert_exporter": "python",
   "pygments_lexer": "ipython3",
   "version": "3.13.4"
  }
 },
 "nbformat": 4,
 "nbformat_minor": 5
}
