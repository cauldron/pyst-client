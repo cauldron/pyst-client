{
 "cells": [
  {
   "cell_type": "markdown",
   "id": "ba61baa3-0670-4ed8-a828-227cc83729d8",
   "metadata": {},
   "source": [
    "# What is the semantic web?\n",
    "\n",
    "The semantic web is a way to give structure and computer-readable meaning to the information published on the web. See this video for what it's called the *semantic* web:"
   ]
  },
  {
   "cell_type": "code",
   "execution_count": 3,
   "id": "8c39d430-d69a-42b9-84ed-26b15b7b70db",
   "metadata": {},
   "outputs": [
    {
     "data": {
      "image/jpeg": "[encoded data removed]",
      "text/html": [
       "\n",
       "        <iframe\n",
       "            width=\"400\"\n",
       "            height=\"300\"\n",
       "            src=\"https://www.youtube.com/embed/OGg8A2zfWKg\"\n",
       "            frameborder=\"0\"\n",
       "            allowfullscreen\n",
       "            \n",
       "        ></iframe>\n",
       "        "
      ],
      "text/plain": [
       "<IPython.lib.display.YouTubeVideo at 0x107752d40>"
      ]
     },
     "execution_count": 3,
     "metadata": {},
     "output_type": "execute_result"
    }
   ],
   "source": [
    "from IPython.display import YouTubeVideo\n",
    "\n",
    "YouTubeVideo('OGg8A2zfWKg')"
   ]
  },
  {
   "cell_type": "markdown",
   "id": "f409da8a-aa64-4085-9b90-6c581b8001bc",
   "metadata": {},
   "source": [
    "In practical terms, the semantic web means we need to structure our data following some ontologies - descriptions of the precise meaning of the terms we use when structuring the information. In the semantic web, we form very short sentences with a subject, a predicate, and an object. Here is an example in human language:\n",
    "\n",
    "    Dog has hair\n",
    "\n",
    "Where:\n",
    "\n",
    "- `Dog` is the subject - the thing being described.\n",
    "- `has` is the predicate - the directional relationship between the subject and the object.\n",
    "- `hair` is the object - the thing being attached to the subject throught the predicate relationship.\n",
    "\n",
    "If you are used to thinking in graphs (and you should be, if you have experience in life cycle assessment!), then the subject and object are **nodes** in the graph, and the predicates are **edges**. These edges are qualitative, and are limited to the semantics defined for the edge.\n",
    "\n",
    "In a semantic web graph, this combination of subject, verb, and object are sometimes called a triple.\n",
    "\n",
    "How do we define semantics? We will use ontologies, which explicitly describe what kinds of subjects, predicates, and objects are allowed, and what they mean. The main ontology used in `py-semantic-taxonomy` is [SKOS](https://www.w3.org/TR/skos-primer/). SKOS is designed to structure a formal knowledge organizational systems. To do so, it defines objects, like `Concept`, and predicates, like `exactMatch`. Here is an example from life cycle assessment:\n",
    "\n",
    "\n",
    "\n",
    "SKOS has [a good primer](https://www.w3.org/TR/skos-primer/), and the data model for PyST, which builds on top of SKOS with some additional ontologies and some stricter rules, is described in the [PyST documentation](https://docs.pyst.dev/data-model/).\n",
    "\n",
    "## Low-level graph operations\n",
    "\n",
    "Before we use the PyST classes and interface, let's take some generic semantic web data, and play with it a bit. To do this we need to load some real data:"
   ]
  },
  {
   "cell_type": "code",
   "execution_count": 10,
   "id": "df3f4289-0b0f-48b6-812c-ec50478ad158",
   "metadata": {},
   "outputs": [],
   "source": [
    "import httpx\n",
    "from rdflib.namespace import DCTERMS, OWL, RDF, SKOS\n",
    "from rdflib import Graph, Literal, Namespace, URIRef\n",
    "\n",
    "\n",
    "URL = \"https://raw.githubusercontent.com/cauldron/pyst-client/refs/heads/main/pyst_client/units/data/extra-data.ttl\"\n",
    "graph = Graph().parse(URL, format=\"ttl\")"
   ]
  },
  {
   "cell_type": "markdown",
   "id": "53a22de6-fccb-4484-9775-63217b24c138",
   "metadata": {},
   "source": [
    "We can then iterate over the *triples* in the graph:"
   ]
  },
  {
   "cell_type": "code",
   "execution_count": 12,
   "id": "cf15df61-996e-492e-9c22-bbdcf12a98c0",
   "metadata": {},
   "outputs": [
    {
     "name": "stdout",
     "output_type": "stream",
     "text": [
      "Subject: https://vocab.sentier.dev/units/quantity-kind/LengthTime\n",
      "Predicate: http://qudt.org/schema/qudt/applicableUnit\n",
      "Object: https://vocab.sentier.dev/units/unit/M-YR\n",
      "\n",
      "Subject: https://vocab.sentier.dev/units/unit/KiloGM-PER-L\n",
      "Predicate: http://www.w3.org/2004/02/skos/core#exactMatch\n",
      "Object: https://glossary.ecoinvent.org/ids/b06bab82-f0e8-426d-849a-ebdb5b553519\n",
      "\n",
      "Subject: https://vocab.sentier.dev/units/quantity-kind/AreaTime\n",
      "Predicate: http://www.w3.org/2004/02/skos/core#definition\n",
      "Object: Occupation or use of a given are over a period of time.\n",
      "\n",
      "Subject: https://vocab.sentier.dev/units/unit/KiloM-TONNE\n",
      "Predicate: http://www.w3.org/2004/02/skos/core#prefLabel\n",
      "Object: Tonne (metric) kilometre\n",
      "\n",
      "Subject: https://vocab.sentier.dev/units/unit/L-DAY\n",
      "Predicate: http://qudt.org/schema/qudt/hasDimensionVector\n",
      "Object: http://qudt.org/vocab/dimensionvector/A0E0L3I0M0H0T1D0\n",
      "\n"
     ]
    }
   ],
   "source": [
    "for index, (s, p, o) in enumerate(graph.triples((None, None, None))):\n",
    "    print(f\"Subject: {s}\\nPredicate: {p}\\nObject: {o}\\n\")\n",
    "    if index > 3:\n",
    "        break"
   ]
  },
  {
   "cell_type": "markdown",
   "id": "253f8319-43c3-48d3-ab67-1ba4f0df55b4",
   "metadata": {},
   "source": [
    "In the semantic web, subjects are normally [URIs](https://en.wikipedia.org/wiki/Uniform_Resource_Identifier), like `https://vocab.sentier.dev/units/quantity-kind/LengthTime`. They have the type `rdflib.URIRef`:"
   ]
  },
  {
   "cell_type": "code",
   "execution_count": 9,
   "id": "4869b1d1-d58c-48b6-96f8-2e1eae448fd9",
   "metadata": {},
   "outputs": [
    {
     "data": {
      "text/plain": [
       "rdflib.term.URIRef"
      ]
     },
     "execution_count": 9,
     "metadata": {},
     "output_type": "execute_result"
    }
   ],
   "source": [
    "type(s)"
   ]
  },
  {
   "cell_type": "markdown",
   "id": "2d2cfe78-8e9c-444f-bd06-5daf9d8b9ca2",
   "metadata": {},
   "source": [
    "The predicate is also a URI, and must be a term from an ontology. In this case, we see two ontologies: QUDT and SKOS."
   ]
  },
  {
   "cell_type": "code",
   "execution_count": 13,
   "id": "85879c91-803b-49c1-9d18-5ef03d3c8405",
   "metadata": {},
   "outputs": [
    {
     "data": {
      "text/plain": [
       "rdflib.term.URIRef"
      ]
     },
     "execution_count": 13,
     "metadata": {},
     "output_type": "execute_result"
    }
   ],
   "source": [
    "type(p)"
   ]
  },
  {
   "cell_type": "markdown",
   "id": "9508f13f-6c62-4187-9416-0408fb20d680",
   "metadata": {},
   "source": [
    "You can click on the link [http://qudt.org/schema/qudt/hasDimensionVector](http://qudt.org/schema/qudt/hasDimensionVector) and see its description. This is one of the advantages of the semantic web approach - it can be self-describing.\n",
    "\n",
    "Predicates have limits on how they can be used. They define their *domain* - the allowed subject types - and their **range** - the allowed object types. For example, in QUDT the conversion factors must have a domain of a unit and a range of a literal number.\n",
    "\n",
    "## Filtering the graph\n",
    "\n",
    "We can iterate over the graph and only get the triples we want. We can filter by any combination of subject, predicate, and/or object:"
   ]
  },
  {
   "cell_type": "code",
   "execution_count": 14,
   "id": "d200dd2a-078f-4773-819c-b35af8b17458",
   "metadata": {},
   "outputs": [
    {
     "name": "stdout",
     "output_type": "stream",
     "text": [
      "Subject: https://vocab.sentier.dev/units/unit/KiloM-TONNE\n",
      "Predicate: http://www.w3.org/1999/02/22-rdf-syntax-ns#type\n",
      "Object: http://www.w3.org/2004/02/skos/core#Concept\n",
      "\n",
      "Subject: https://vocab.sentier.dev/units/unit/KiloM-TONNE\n",
      "Predicate: http://qudt.org/schema/qudt/applicableSystem\n",
      "Object: http://qudt.org/vocab/sou/CGS\n",
      "\n",
      "Subject: https://vocab.sentier.dev/units/unit/KiloM-TONNE\n",
      "Predicate: http://qudt.org/schema/qudt/applicableSystem\n",
      "Object: http://qudt.org/vocab/sou/SI\n",
      "\n",
      "Subject: https://vocab.sentier.dev/units/unit/KiloM-TONNE\n",
      "Predicate: http://qudt.org/schema/qudt/conversionMultiplier\n",
      "Object: 1000000.0\n",
      "\n",
      "Subject: https://vocab.sentier.dev/units/unit/KiloM-TONNE\n",
      "Predicate: http://qudt.org/schema/qudt/conversionMultiplierSN\n",
      "Object: 1000000.0\n",
      "\n"
     ]
    }
   ],
   "source": [
    "for index, (s, p, o) in enumerate(graph.triples((URIRef(\"https://vocab.sentier.dev/units/unit/KiloM-TONNE\"), None, None))):\n",
    "    print(f\"Subject: {s}\\nPredicate: {p}\\nObject: {o}\\n\")\n",
    "    if index > 3:\n",
    "        break"
   ]
  },
  {
   "cell_type": "code",
   "execution_count": 16,
   "id": "ee0a70fe-5110-4112-af83-6766cae269fc",
   "metadata": {},
   "outputs": [
    {
     "name": "stdout",
     "output_type": "stream",
     "text": [
      "Subject: https://vocab.sentier.dev/units/unit/SEC-PER-M2\n",
      "Predicate: http://qudt.org/schema/qudt/conversionMultiplier\n",
      "Object: 1.0\n",
      "\n",
      "Subject: https://vocab.sentier.dev/units/unit/M2-SEC\n",
      "Predicate: http://qudt.org/schema/qudt/conversionMultiplier\n",
      "Object: 1.0\n",
      "\n",
      "Subject: https://vocab.sentier.dev/units/unit/PERSON-M\n",
      "Predicate: http://qudt.org/schema/qudt/conversionMultiplier\n",
      "Object: 1.0\n",
      "\n",
      "Subject: https://vocab.sentier.dev/units/unit/M-SEC\n",
      "Predicate: http://qudt.org/schema/qudt/conversionMultiplier\n",
      "Object: 1.0\n",
      "\n",
      "Subject: https://vocab.sentier.dev/units/unit/KiloGM-SEC\n",
      "Predicate: http://qudt.org/schema/qudt/conversionMultiplier\n",
      "Object: 1.0\n",
      "\n"
     ]
    }
   ],
   "source": [
    "for index, (s, p, o) in enumerate(graph.triples((None, URIRef(\"http://qudt.org/schema/qudt/conversionMultiplier\"), None))):\n",
    "    print(f\"Subject: {s}\\nPredicate: {p}\\nObject: {o}\\n\")\n",
    "    if index > 3:\n",
    "        break"
   ]
  },
  {
   "cell_type": "markdown",
   "id": "868d6176-284d-4966-b637-05cbc6aa8967",
   "metadata": {},
   "source": [
    "We can use ontology namespaces to avoid writing long `URIRef(...)` all the time:"
   ]
  },
  {
   "cell_type": "code",
   "execution_count": 17,
   "id": "7c88d78f-bc41-49f9-b307-3b6a453b3cac",
   "metadata": {},
   "outputs": [
    {
     "data": {
      "text/plain": [
       "(rdflib.term.URIRef('http://www.w3.org/2004/02/skos/core#prefLabel'),\n",
       " rdflib.term.URIRef('http://www.w3.org/2004/02/skos/core#prefLabel'))"
      ]
     },
     "execution_count": 17,
     "metadata": {},
     "output_type": "execute_result"
    }
   ],
   "source": [
    "URIRef(\"http://www.w3.org/2004/02/skos/core#prefLabel\"), SKOS.prefLabel"
   ]
  },
  {
   "cell_type": "markdown",
   "id": "d16343e3-ebea-4a86-8383-37e336063ede",
   "metadata": {},
   "source": [
    "## Object types\n",
    "\n",
    "Objects can have complex types. We have basic strings, numbers, URIs, etc., but we can also have multilingual strings or other rich object. Here is an example - in this case, the object is a literal with a language attached:"
   ]
  },
  {
   "cell_type": "code",
   "execution_count": 22,
   "id": "69acc202-55e5-4843-8951-04e74f76cef4",
   "metadata": {},
   "outputs": [
    {
     "name": "stdout",
     "output_type": "stream",
     "text": [
      "Subject: https://vocab.sentier.dev/units/unit/M2-SEC\n",
      "Predicate: http://www.w3.org/2004/02/skos/core#prefLabel\n",
      "Object: Square metre second (en-GB)\n",
      "\n",
      "Subject: https://vocab.sentier.dev/units/unit/M2-SEC\n",
      "Predicate: http://www.w3.org/2004/02/skos/core#prefLabel\n",
      "Object: Square meter second (en-US)\n",
      "\n"
     ]
    }
   ],
   "source": [
    "for s, p, o in graph.triples((URIRef(\"https://vocab.sentier.dev/units/unit/M2-SEC\"), SKOS.prefLabel, None)):\n",
    "    print(f\"Subject: {s}\\nPredicate: {p}\\nObject: {o} ({o.language})\\n\")"
   ]
  },
  {
   "cell_type": "code",
   "execution_count": 24,
   "id": "fd3a33ca-7c82-429e-b2b4-c9579298343d",
   "metadata": {},
   "outputs": [
    {
     "data": {
      "text/plain": [
       "rdflib.term.Literal('Square meter second', lang='en-US')"
      ]
     },
     "execution_count": 24,
     "metadata": {},
     "output_type": "execute_result"
    }
   ],
   "source": [
    "o"
   ]
  },
  {
   "cell_type": "markdown",
   "id": "3c0ce291-c53f-4ee7-9485-9d12975dda10",
   "metadata": {},
   "source": [
    "## Working with PyST\n",
    "\n",
    "This gets complicated quickly - we are working on the simple PyST client to make most of the complexity disappear."
   ]
  },
  {
   "cell_type": "code",
   "execution_count": 25,
   "id": "5c20dda0-b1f1-41da-8c23-eaf5c1bd5ce0",
   "metadata": {},
   "outputs": [],
   "source": [
    "from pyst_client.simple import *"
   ]
  },
  {
   "cell_type": "markdown",
   "id": "7dc52e2d-3541-42dc-9772-7ce456d30e04",
   "metadata": {},
   "source": [
    "## Setup\n",
    "\n",
    "We first need to setup the client. This means we need to specify the following for reading:\n",
    "\n",
    "* PyST server URL base path: `settings.set_server_url(<url>)`, e.g. `settings.set_server_url(\"https://vocab.bonsai.uno\")`. Trailing slash is optional.\n",
    "\n",
    "If writing, then also set the following:\n",
    "\n",
    "* PyST API authentication key: `settings.set_api_key(<api_key>`, e.g. `settings.set_api_key(\"supersecret\")`.\n",
    "* Default creation language. This must be a [RFC 3987](https://datatracker.ietf.org/doc/html/rfc3987) language code, and should be one of the PyST server configured languages. All multilingual strings without language codes will use this language: `settings.set_language(<code>)`, e.g. `settings.set_language(\"es\")`.\n",
    "* Creation base URL. The URL used as a base path for your object's IRIs when using automatic IRI generation: `settings.set_creation_base_url(<url>)`, e.g. `settings.set_creation_base_url(\"https://awesome.namespace.com\")`\n",
    "* Default creator IRI. Will be used as a fallback default for all created objects when `creator` is not specific: `settings.set_creator(<my_url>)`, e.g. `settings.set_creator(\"https://valentin.stargazer\")`."
   ]
  },
  {
   "cell_type": "code",
   "execution_count": null,
   "id": "9b6a1fdb-94ed-4af5-8de5-ee7103138883",
   "metadata": {},
   "outputs": [],
   "source": [
    "settings.set_server_url(\"https://vocab.sentier.dev\")\n",
    "settings.set_language(\"en\")\n",
    "settings.set_creator(<my_url>)\n",
    "settings.set_creation_base_url(<something>)  # Default is https://ninja.space"
   ]
  },
  {
   "cell_type": "markdown",
   "id": "096c0892-d14d-49ab-9c3f-5d0a4bab05f1",
   "metadata": {},
   "source": [
    "## Data creation\n",
    "\n",
    "The API code is pretty readable - refer to it for more information on each method. For most object classes, you can do the following:\n",
    "\n",
    "* `object_class.create(args)`\n",
    "* `object_class.get_one(args)`\n",
    "* `object_class.get_many(args)`\n",
    "* `object_instance.save()`\n",
    "* `object_instance.delete()`\n",
    "\n",
    "In this course we will focus on reading the data. See the [Client guide](https://github.com/cauldron/pyst-client/blob/main/pyst_client/example/Simple%20client%20library%20guide.ipynb) for instructions on creating data.\n",
    "\n",
    "### Concept schemes\n",
    "\n",
    "Let's get the concept scheme for units:"
   ]
  },
  {
   "cell_type": "code",
   "execution_count": 31,
   "id": "6a2e2127-3299-4b1f-96c4-16a89931bd02",
   "metadata": {},
   "outputs": [
    {
     "name": "stdout",
     "output_type": "stream",
     "text": [
      "\u001b[2m2025-10-14 10:32:46\u001b[0m [\u001b[32m\u001b[1minfo     \u001b[0m] \u001b[1mServer URL https://vocab.sentier.dev/ successfully loaded from secrets directory\u001b[0m\n",
      "\u001b[2m2025-10-14 10:32:46\u001b[0m [\u001b[32m\u001b[1minfo     \u001b[0m] \u001b[1mDefault language `en` successfully loaded from secrets directory\u001b[0m\n",
      "\u001b[2m2025-10-14 10:32:46\u001b[0m [\u001b[32m\u001b[1minfo     \u001b[0m] \u001b[1mServer URL `https://vocab.sentier.dev/` is healthy and reachable\u001b[0m\n"
     ]
    }
   ],
   "source": [
    "cs = ConceptScheme.get_one(\"https://vocab.sentier.dev/units/\")"
   ]
  },
  {
   "cell_type": "code",
   "execution_count": 32,
   "id": "c99ed3db-3719-4d2b-a73e-b27fbceee7d1",
   "metadata": {
    "scrolled": true
   },
   "outputs": [
    {
     "data": {
      "text/plain": [
       "ConceptScheme(id_='https://vocab.sentier.dev/units/', types=['http://www.w3.org/2004/02/skos/core#ConceptScheme'], pref_labels=[{'@value': 'Units Concept Scheme based on QUDT version 3.1.6', '@language': 'en'}], status=[{'@id': 'http://purl.org/ontology/bibo/status/accepted'}], notations=[], definitions=[{'@value': 'The QUDT, or \"Quantity, Unit, Dimension and Type\" schema defines the base classes properties, and restrictions used for modeling physical quantities, units of measure, and their dimensions in various measurement systems. The goal of the QUDT ontology is to provide a unified model of, measurable quantities, units for measuring different kinds of quantities, the numerical values of quantities in different units of measure and the data structures and data types used to store and manipulate these objects in software.\\nExcept for unit prefixes, all units are specified in separate vocabularies. Descriptions are provided in both HTML and LaTeX formats. A quantity is a measure of an observable phenomenon, that, when associated with something, becomes a property of that thing; a particular object, event, or physical system. \\nA quantity has meaning in the context of a measurement (i.e. the thing measured, the measured value, the accuracy of measurement, etc.) whereas the underlying quantity kind is independent of any particular measurement. Thus, length is a quantity kind while the height of a rocket is a specific quantity of length; its magnitude that may be expressed in meters, feet, inches, etc.  Or, as stated at Wikipedia, in the language of measurement, quantities are quantifiable aspects of the world, such as time, distance, velocity, mass, momentum, energy, and weight, and units are used to describe their measure. Many of these quantities are related to each other by various physical laws, and as a result the units of some of the quantities can be expressed as products (or ratios) of powers of other units (e.g., momentum is mass times velocity and velocity is measured in distance divided by time).', '@language': 'en'}], change_notes=[], history_notes=[], editorial_notes=[], extra={}, created=[{'@type': 'http://www.w3.org/2001/XMLSchema#date', '@value': '2011-04-20'}], creators=[{'@id': 'https://www.linkedin.com/in/ralphhodgson/'}], version=[{'@value': '3.1.6'}])"
      ]
     },
     "execution_count": 32,
     "metadata": {},
     "output_type": "execute_result"
    }
   ],
   "source": [
    "cs"
   ]
  },
  {
   "cell_type": "markdown",
   "id": "d9cb4904-b3c3-4ef4-ab2c-e23faf89861a",
   "metadata": {},
   "source": [
    "The `ConceptScheme` class supports the following attributes:\n",
    "\n",
    "* id_: str\n",
    "* types: list[str]\n",
    "* pref_labels: list[dict[str, str]]\n",
    "* status: list[dict]\n",
    "* notations: list[dict[str, str]] \n",
    "* definitions: list[dict[str, str]] \n",
    "* change_notes: list[dict] \n",
    "* history_notes: list[dict] \n",
    "* editorial_notes: list[dict] \n",
    "* extra: dict \n",
    "* created: list[datetime]\n",
    "* creators: list[dict]\n",
    "* version: list[str]\n",
    "\n",
    "For example:"
   ]
  },
  {
   "cell_type": "code",
   "execution_count": 33,
   "id": "3b1a139e-d016-4d63-98b3-ee7fbb3cb87c",
   "metadata": {},
   "outputs": [
    {
     "data": {
      "text/plain": [
       "[{'@value': 'Units Concept Scheme based on QUDT version 3.1.6',\n",
       "  '@language': 'en'}]"
      ]
     },
     "execution_count": 33,
     "metadata": {},
     "output_type": "execute_result"
    }
   ],
   "source": [
    "cs.pref_labels"
   ]
  },
  {
   "cell_type": "markdown",
   "id": "02e95550-eacf-4395-a134-6a8a521f58e2",
   "metadata": {},
   "source": [
    "This data is in JSON-LD - a way of serializing semantic web data in JSON."
   ]
  },
  {
   "cell_type": "markdown",
   "id": "cc90279c-1212-47b5-918e-b78ee2e533f4",
   "metadata": {},
   "source": [
    "Units are stored in a hierarchy, following the [QUDT](https://qudt.org/) system of units and quantity kinds:\n",
    "\n",
    "- Quantity kind\n",
    "    - Reference unit (manually selected)\n",
    "        - Other unit\n",
    "        - Other unit\n",
    "        - Other unit\n",
    "\n",
    "We can get the top level concepts for this concept scheme:"
   ]
  },
  {
   "cell_type": "code",
   "execution_count": 38,
   "id": "ac7fc57e-73c8-4138-aa2b-9d556c78e0d6",
   "metadata": {},
   "outputs": [
    {
     "data": {
      "text/plain": [
       "[Concept(id_='https://vocab.sentier.dev/units/quantity-kind/Acceleration', types=['http://www.w3.org/2004/02/skos/core#Concept'], pref_labels=[{'@value': 'pospešek', '@language': 'sl'}, {'@value': 'Pecutan', '@language': 'ms'}, {'@value': 'acceleratio', '@language': 'la'}, {'@value': 'accelerazione', '@language': 'it'}, {'@value': 'przyspieszenie', '@language': 'pl'}, {'@value': 'acceleration', '@language': 'en'}, {'@value': 'Beschleunigung', '@language': 'de'}, {'@value': 'التسارع', '@language': 'ar'}, {'@value': 'شتاب', '@language': 'fa'}, {'@value': '加速度', '@language': 'zh'}, {'@value': 'Όγκος', '@language': 'el'}, {'@value': 'accélération', '@language': 'fr'}, {'@value': 'Zrychlení', '@language': 'cs'}, {'@value': 'Ускоре́ние', '@language': 'ru'}, {'@value': '加速度', '@language': 'ja'}, {'@value': 'aceleração', '@language': 'pt'}, {'@value': 'त्वरण', '@language': 'hi'}, {'@value': 'aceleración', '@language': 'es'}, {'@value': 'accelerație', '@language': 'ro'}, {'@value': 'ivme', '@language': 'tr'}], status=[{'@id': 'http://purl.org/ontology/bibo/status/accepted'}], notations=[{'@value': '0112/2///62720#UAD002'}], definitions=[{'@value': '\\n  $\\\\textit{Acceleration}$ is the (instantaneous) rate of change of velocity. \\n  Acceleration may be either linear acceleration, or angular acceleration. \\n  It is a vector quantity with dimension $length/time^{2}$ for linear acceleration,\\n   or in the case of angular acceleration, with dimension $angle/time^{2}$. \\n  $$$$\\n  In SI units, linear acceleration is measured in $meters/second^{2}$ ($m \\\\cdot s^{-2}$),\\n   and angular acceleration is measured in $radians/second^{2}$. \\n  $$$$\\n  In physics, any increase or decrease in speed is referred to as acceleration and similarly,\\n   motion in a circle at constant speed is also an acceleration, since the direction component of the velocity is changing.\\n  ', '@language': 'en'}], change_notes=[], history_notes=[], editorial_notes=[], extra={'http://www.w3.org/2004/02/skos/core#note': [{'@value': 'Applicable units are those of quantitykind:Acceleration', '@language': 'en'}], 'http://www.w3.org/2004/02/skos/core#related': [{'@type': 'http://www.w3.org/2001/XMLSchema#anyURI', '@value': 'http://dbpedia.org/resource/Acceleration'}], 'http://qudt.org/schema/qudt/hasDimensionVector': [{'@id': 'http://qudt.org/vocab/dimensionvector/A0E0L1I0M0H0T-2D0'}], 'http://qudt.org/schema/qudt/informativeReference': [{'@type': 'http://www.w3.org/2001/XMLSchema#anyURI', '@value': 'http://en.wikipedia.org/wiki/Acceleration'}, {'@type': 'http://www.w3.org/2001/XMLSchema#anyURI', '@value': 'https://cdd.iec.ch/cdd/iec61987/iec61987.nsf/ListsOfUnitsAllVersions/0112-2---62720%23UAD002'}]}, schemes=[{'@id': 'https://vocab.sentier.dev/units/'}], alt_labels=[], hidden_labels=[], top_concept_of=[{'@id': 'https://vocab.sentier.dev/units/'}]),\n",
       " Concept(id_='https://vocab.sentier.dev/units/quantity-kind/Acidity', types=['http://www.w3.org/2004/02/skos/core#Concept'], pref_labels=[{'@value': 'Acidity', '@language': 'en'}], status=[{'@id': 'http://purl.org/ontology/bibo/status/accepted'}], notations=[], definitions=[{'@value': '\\n  Chemicals or substances having a pH less than 7 are said to be acidic;\\n   lower pH means higher acidity.\\n  ', '@language': 'en'}], change_notes=[], history_notes=[], editorial_notes=[], extra={'http://www.w3.org/2004/02/skos/core#note': [{'@value': 'Applicable units are those of quantitykind:Acidity', '@language': 'en'}], 'http://www.w3.org/2004/02/skos/core#related': [{'@id': 'http://qudt.org/vocab/quantitykind/Basicity'}], 'http://qudt.org/schema/qudt/hasDimensionVector': [{'@id': 'http://qudt.org/vocab/dimensionvector/A0E0L0I0M0H0T0D1'}], 'http://qudt.org/schema/qudt/informativeReference': [{'@type': 'http://www.w3.org/2001/XMLSchema#anyURI', '@value': 'https://en.wikipedia.org/wiki/Acid'}, {'@type': 'http://www.w3.org/2001/XMLSchema#anyURI', '@value': 'https://en.wikipedia.org/wiki/PH'}, {'@type': 'http://www.w3.org/2001/XMLSchema#anyURI', '@value': 'https://iupac.org/wp-content/uploads/2019/05/IUPAC-GB3-2012-2ndPrinting-PDFsearchable.pdf'}]}, schemes=[{'@id': 'https://vocab.sentier.dev/units/'}], alt_labels=[], hidden_labels=[], top_concept_of=[{'@id': 'https://vocab.sentier.dev/units/'}])]"
      ]
     },
     "execution_count": 38,
     "metadata": {},
     "output_type": "execute_result"
    }
   ],
   "source": [
    "concepts = Concept.get_many(\n",
    "    concept_scheme_iri=cs.id_,\n",
    "    top_concepts_only=True\n",
    ")\n",
    "concepts[:2]"
   ]
  },
  {
   "cell_type": "markdown",
   "id": "0042d494-b3d2-45e7-b55d-7aef86111cfe",
   "metadata": {},
   "source": [
    "Concepts have the following attributes:\n",
    "\n",
    "* id_: str\n",
    "* types: list[str]\n",
    "* pref_labels: list[dict[str, str]]\n",
    "* status: list[dict]\n",
    "* notations: list[dict[str, str]] \n",
    "* definitions: list[dict[str, str]] \n",
    "* change_notes: list[dict] \n",
    "* history_notes: list[dict] \n",
    "* editorial_notes: list[dict] \n",
    "* extra: dict \n",
    "* schemes: list[dict]\n",
    "* alt_labels: list[dict[str, str]] \n",
    "* hidden_labels: list[dict[str, str]] \n",
    "* top_concept_of: list[dict] "
   ]
  },
  {
   "cell_type": "markdown",
   "id": "622f4684-0d5c-4a69-8ddb-d4a239df35f6",
   "metadata": {},
   "source": [
    "## Relationships\n",
    "\n",
    "We can get hierarchical relationships for a concept:"
   ]
  },
  {
   "cell_type": "code",
   "execution_count": 40,
   "id": "667099c4-808b-43b7-a241-aabfe2b00bd6",
   "metadata": {},
   "outputs": [
    {
     "data": {
      "text/plain": [
       "[[Relationship(source='https://vocab.sentier.dev/units/quantity-kind/Acceleration', target='http://qudt.org/vocab/quantitykind/Acceleration', predicate=<RelationshipVerbs.exact_match: 'http://www.w3.org/2004/02/skos/core#exactMatch'>)],\n",
       " [Relationship(source='https://vocab.sentier.dev/units/quantity-kind/Acceleration', target='https://si-digital-framework.org/quantities/ACCE', predicate=<RelationshipVerbs.exact_match: 'http://www.w3.org/2004/02/skos/core#exactMatch'>)]]"
      ]
     },
     "execution_count": 40,
     "metadata": {},
     "output_type": "execute_result"
    }
   ],
   "source": [
    "Relationship.get_many(concept=concepts[0])"
   ]
  },
  {
   "cell_type": "markdown",
   "id": "68bf4739-054a-4ebf-8591-76e1053b73b1",
   "metadata": {},
   "source": [
    "We can see these relationships in the web as well:"
   ]
  },
  {
   "cell_type": "code",
   "execution_count": 41,
   "id": "110486d4-a972-42c5-81dd-a368f61562e1",
   "metadata": {},
   "outputs": [],
   "source": [
    "concepts[0].open_new_tab()"
   ]
  },
  {
   "cell_type": "markdown",
   "id": "7fb501e7-d774-4a8b-b87b-22a9b9dad4ea",
   "metadata": {},
   "source": [
    "By default, PyST only stores *broader* relationships. The relationship between acceleration and its reference unit (meters per second squared) is *narrower from the perspective of acceleration*. We can get reciprocal relationships by looking for relationships where acceleration *is the target*:"
   ]
  },
  {
   "cell_type": "code",
   "execution_count": 42,
   "id": "06819b22-dee0-4b67-a331-11f80923d564",
   "metadata": {},
   "outputs": [
    {
     "data": {
      "text/plain": [
       "[[Relationship(source='https://vocab.sentier.dev/units/quantity-kind/Acceleration', target='http://qudt.org/vocab/quantitykind/Acceleration', predicate=<RelationshipVerbs.exact_match: 'http://www.w3.org/2004/02/skos/core#exactMatch'>)],\n",
       " [Relationship(source='https://vocab.sentier.dev/units/quantity-kind/Acceleration', target='https://si-digital-framework.org/quantities/ACCE', predicate=<RelationshipVerbs.exact_match: 'http://www.w3.org/2004/02/skos/core#exactMatch'>)],\n",
       " [Relationship(source='https://vocab.sentier.dev/units/unit/M-PER-SEC2', target='https://vocab.sentier.dev/units/quantity-kind/Acceleration', predicate=<RelationshipVerbs.broader: 'http://www.w3.org/2004/02/skos/core#broader'>)]]"
      ]
     },
     "execution_count": 42,
     "metadata": {},
     "output_type": "execute_result"
    }
   ],
   "source": [
    "Relationship.get_many(concept=concepts[0], target=True)"
   ]
  },
  {
   "cell_type": "markdown",
   "id": "051188ec-6603-43d6-95d6-87514dc3477a",
   "metadata": {},
   "source": [
    "## Associations\n",
    "\n",
    "Associations are across concept schemes, but do not include information on the *quality* of the association."
   ]
  },
  {
   "cell_type": "code",
   "execution_count": 43,
   "id": "1ba666de-4113-4bc3-a1e9-00151f2c5435",
   "metadata": {},
   "outputs": [
    {
     "data": {
      "text/plain": [
       "[Association(id_='https://vocab.sentier.dev/products/correspondence/ei-products-3.11-CN-2024/2c1b9dae71d649398d3d0d81b1a32ab8', types=['http://rdf-vocabulary.ddialliance.org/xkos#ConceptAssociation'], source_concepts=[{'@id': 'https://vocab.sentier.dev/products/ecoinvent/3.11/1f9d8150-57b5-4e5f-a9bf-b71cbb1be302'}], target_concepts=[{'@id': 'http://data.europa.eu/xsp/cn2024/690100000010'}], kind=<AssociationKind.simple: 'simple'>, extra={'http://rdf-vocabulary.ddialliance.org/xkos#Correspondence': 'https://vocab.sentier.dev/products/correspondence/ei-products-3.11-CN-2024'}),\n",
       " Association(id_='https://vocab.sentier.dev/products/ecoinvent/3.11/ei-products-3.10-ei-products-3.11/17bd819120ae4962bccd330ac387d199', types=['http://rdf-vocabulary.ddialliance.org/xkos#ConceptAssociation'], source_concepts=[{'@id': 'https://vocab.sentier.dev/products/ecoinvent/3.11/1f9d8150-57b5-4e5f-a9bf-b71cbb1be302'}], target_concepts=[{'@id': 'https://vocab.sentier.dev/products/ecoinvent/3.10/1f9d8150-57b5-4e5f-a9bf-b71cbb1be302'}], kind=<AssociationKind.simple: 'simple'>, extra={'http://rdf-vocabulary.ddialliance.org/xkos#Correspondence': 'https://vocab.sentier.dev/products/ecoinvent/3.9/ei-products-3.10-ei-products-3.11'}),\n",
       " Association(id_='https://vocab.sentier.dev/products/ecoinvent/3.11/ei-products-3.10-ei-products-3.11/f7b8ff1b1e1e46ab878345279500efd2', types=['http://rdf-vocabulary.ddialliance.org/xkos#ConceptAssociation'], source_concepts=[{'@id': 'https://vocab.sentier.dev/products/ecoinvent/3.11/1f9d8150-57b5-4e5f-a9bf-b71cbb1be302'}], target_concepts=[{'@id': 'https://vocab.sentier.dev/products/ecoinvent/3.10/1f9d8150-57b5-4e5f-a9bf-b71cbb1be302'}], kind=<AssociationKind.simple: 'simple'>, extra={'http://rdf-vocabulary.ddialliance.org/xkos#Correspondence': 'https://vocab.sentier.dev/products/ecoinvent/3.11/ei-products-3.10-ei-products-3.11'}),\n",
       " Association(id_='https://vocab.sentier.dev/products/ecoinvent/3.11/ei-products-3.11-CPCv2.1/f585d1831d6749eea8d97dd459996970', types=['http://rdf-vocabulary.ddialliance.org/xkos#ConceptAssociation'], source_concepts=[{'@id': 'https://vocab.sentier.dev/products/ecoinvent/3.11/1f9d8150-57b5-4e5f-a9bf-b71cbb1be302'}], target_concepts=[{'@id': 'https://vocab.sentier.dev/products/cpc/2.1/CPCv2.1/3731'}], kind=<AssociationKind.simple: 'simple'>, extra={'http://rdf-vocabulary.ddialliance.org/xkos#Correspondence': 'https://vocab.sentier.dev/products/ecoinvent/3.11/ei-products-3.11-CPCv2.1'}),\n",
       " Association(id_='https://vocab.sentier.dev/products/ecoinvent/3.9/ei-products-3.11-CPCv2.1/200c05554cc7437aa5d588a238f12517', types=['http://rdf-vocabulary.ddialliance.org/xkos#ConceptAssociation'], source_concepts=[{'@id': 'https://vocab.sentier.dev/products/ecoinvent/3.11/1f9d8150-57b5-4e5f-a9bf-b71cbb1be302'}], target_concepts=[{'@id': 'https://vocab.sentier.dev/products/cpc/2.1/CPCv2.1/3731'}], kind=<AssociationKind.simple: 'simple'>, extra={'http://rdf-vocabulary.ddialliance.org/xkos#Correspondence': 'https://vocab.sentier.dev/products/ecoinvent/3.9/ei-products-3.11-CPCv2.1'})]"
      ]
     },
     "execution_count": 43,
     "metadata": {},
     "output_type": "execute_result"
    }
   ],
   "source": [
    "URL = \"https://vocab.sentier.dev/products/ecoinvent/3.11/1f9d8150-57b5-4e5f-a9bf-b71cbb1be302\"\n",
    "Association.get_many(source_concept=Concept.get_one(URL))"
   ]
  },
  {
   "cell_type": "code",
   "execution_count": 44,
   "id": "65cbc324-fdca-40f7-88fd-6080d8a416ad",
   "metadata": {},
   "outputs": [],
   "source": [
    "Concept.get_one(URL).open_new_tab()"
   ]
  },
  {
   "cell_type": "code",
   "execution_count": null,
   "id": "328fba7f-72e1-414f-812b-6cdc861d8acd",
   "metadata": {},
   "outputs": [],
   "source": []
  }
 ],
 "metadata": {
  "kernelspec": {
   "display_name": "Python 3 (ipykernel)",
   "language": "python",
   "name": "python3"
  },
  "language_info": {
   "codemirror_mode": {
    "name": "ipython",
    "version": 3
   },
   "file_extension": ".py",
   "mimetype": "text/x-python",
   "name": "python",
   "nbconvert_exporter": "python",
   "pygments_lexer": "ipython3",
   "version": "3.13.7"
  }
 },
 "nbformat": 4,
 "nbformat_minor": 5
}
